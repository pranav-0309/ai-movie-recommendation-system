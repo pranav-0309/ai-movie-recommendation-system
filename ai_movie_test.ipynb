{
 "cells": [
  {
   "cell_type": "markdown",
   "metadata": {},
   "source": [
    "This program was used for data cleaning and preprocessing and experimental purposes."
   ]
  },
  {
   "cell_type": "code",
   "execution_count": 2,
   "metadata": {},
   "outputs": [],
   "source": [
    "# All project imports\n",
    "\n",
    "import pandas as pd\n",
    "from langchain_groq import ChatGroq\n",
    "from langchain_experimental.agents.agent_toolkits import create_pandas_dataframe_agent"
   ]
  },
  {
   "cell_type": "code",
   "execution_count": 3,
   "metadata": {},
   "outputs": [],
   "source": [
    "# Importing the database\n",
    "movies = pd.read_csv('TMDB_movie_dataset_v11.csv')"
   ]
  },
  {
   "cell_type": "code",
   "execution_count": 3,
   "metadata": {},
   "outputs": [
    {
     "name": "stdout",
     "output_type": "stream",
     "text": [
      "<class 'pandas.core.frame.DataFrame'>\n",
      "RangeIndex: 1087924 entries, 0 to 1087923\n",
      "Data columns (total 24 columns):\n",
      " #   Column                Non-Null Count    Dtype  \n",
      "---  ------                --------------    -----  \n",
      " 0   id                    1087924 non-null  int64  \n",
      " 1   title                 1087911 non-null  object \n",
      " 2   vote_average          1087924 non-null  float64\n",
      " 3   vote_count            1087924 non-null  int64  \n",
      " 4   status                1087924 non-null  object \n",
      " 5   release_date          927082 non-null   object \n",
      " 6   revenue               1087924 non-null  int64  \n",
      " 7   runtime               1087924 non-null  int64  \n",
      " 8   adult                 1087924 non-null  bool   \n",
      " 9   backdrop_path         294442 non-null   object \n",
      " 10  budget                1087924 non-null  int64  \n",
      " 11  homepage              116758 non-null   object \n",
      " 12  imdb_id               592323 non-null   object \n",
      " 13  original_language     1087924 non-null  object \n",
      " 14  original_title        1087911 non-null  object \n",
      " 15  overview              877811 non-null   object \n",
      " 16  popularity            1087924 non-null  float64\n",
      " 17  poster_path           758958 non-null   object \n",
      " 18  tagline               154220 non-null   object \n",
      " 19  genres                663961 non-null   object \n",
      " 20  production_companies  499654 non-null   object \n",
      " 21  production_countries  619169 non-null   object \n",
      " 22  spoken_languages      636031 non-null   object \n",
      " 23  keywords              301679 non-null   object \n",
      "dtypes: bool(1), float64(2), int64(5), object(16)\n",
      "memory usage: 191.9+ MB\n"
     ]
    }
   ],
   "source": [
    "movies.info()"
   ]
  },
  {
   "cell_type": "markdown",
   "metadata": {},
   "source": [
    "I will be using the following columns for this project:\n",
    "\n",
    "1) title\n",
    "2) status (only to remove the movies that have not been released, after that it will be dropped)\n",
    "3) release date\n",
    "4) adult\n",
    "5) original_language\n",
    "6) poster_path\n",
    "7) genres"
   ]
  },
  {
   "cell_type": "code",
   "execution_count": 4,
   "metadata": {},
   "outputs": [],
   "source": [
    "movies = movies[['title', 'status', 'release_date', 'adult', 'original_language', 'poster_path', 'genres']] # Extracting only the necessary columns\n",
    "movies = movies[~movies['status'].isin(['In Production', 'Post Production', 'Planned', 'Rumored'])] # Remvoving all movies that are not released\n",
    "movies = movies[['title', 'release_date', 'adult', 'original_language', 'poster_path', 'genres']] # Selecting the final columns that will be used"
   ]
  },
  {
   "cell_type": "code",
   "execution_count": 5,
   "metadata": {},
   "outputs": [
    {
     "data": {
      "text/plain": [
       "adult                     0\n",
       "original_language         0\n",
       "title                    12\n",
       "release_date         145477\n",
       "poster_path          316231\n",
       "genres               418120\n",
       "dtype: int64"
      ]
     },
     "execution_count": 5,
     "metadata": {},
     "output_type": "execute_result"
    }
   ],
   "source": [
    "# Printing the number of null values\n",
    "movies.isna().sum().sort_values()"
   ]
  },
  {
   "cell_type": "code",
   "execution_count": 6,
   "metadata": {},
   "outputs": [],
   "source": [
    "\"\"\"Removing all data entries that don't have a title, release data, \n",
    "poster path and genre as that can cause issues when generating recommendations\n",
    "\"\"\"\n",
    "movies = movies.dropna(subset=['title', 'release_date', 'poster_path', 'genres'])"
   ]
  },
  {
   "cell_type": "code",
   "execution_count": 7,
   "metadata": {},
   "outputs": [
    {
     "data": {
      "text/plain": [
       "title                0\n",
       "release_date         0\n",
       "adult                0\n",
       "original_language    0\n",
       "poster_path          0\n",
       "genres               0\n",
       "dtype: int64"
      ]
     },
     "execution_count": 7,
     "metadata": {},
     "output_type": "execute_result"
    }
   ],
   "source": [
    "movies.isna().sum().sort_values()"
   ]
  },
  {
   "cell_type": "code",
   "execution_count": 9,
   "metadata": {},
   "outputs": [],
   "source": [
    "# Convert the 'release_date' column from string to datetime\n",
    "movies['release_date'] = pd.to_datetime(movies['release_date'], format='%Y-%m-%d', errors='coerce')\n",
    "\n",
    "# Extract the year and create a new column 'release_year'\n",
    "movies['release_year'] = movies['release_date'].dt.year\n",
    "\n",
    "# Drop the original 'release_date' column as it is not needed\n",
    "movies = movies.drop(columns=['release_date'])"
   ]
  },
  {
   "cell_type": "code",
   "execution_count": 19,
   "metadata": {},
   "outputs": [],
   "source": [
    "# Filtering movies from 1960 to 2024\n",
    "movies = movies[(movies['release_year'] >= 1960) & (movies['release_year'] <= 2024)]"
   ]
  },
  {
   "cell_type": "code",
   "execution_count": 21,
   "metadata": {},
   "outputs": [
    {
     "data": {
      "text/plain": [
       "(448784, 6)"
      ]
     },
     "execution_count": 21,
     "metadata": {},
     "output_type": "execute_result"
    }
   ],
   "source": [
    "movies.shape # Total number of data entries we'll be working with"
   ]
  },
  {
   "cell_type": "code",
   "execution_count": 20,
   "metadata": {},
   "outputs": [
    {
     "data": {
      "text/html": [
       "<div>\n",
       "<style scoped>\n",
       "    .dataframe tbody tr th:only-of-type {\n",
       "        vertical-align: middle;\n",
       "    }\n",
       "\n",
       "    .dataframe tbody tr th {\n",
       "        vertical-align: top;\n",
       "    }\n",
       "\n",
       "    .dataframe thead th {\n",
       "        text-align: right;\n",
       "    }\n",
       "</style>\n",
       "<table border=\"1\" class=\"dataframe\">\n",
       "  <thead>\n",
       "    <tr style=\"text-align: right;\">\n",
       "      <th></th>\n",
       "      <th>title</th>\n",
       "      <th>adult</th>\n",
       "      <th>original_language</th>\n",
       "      <th>poster_path</th>\n",
       "      <th>genres</th>\n",
       "      <th>release_year</th>\n",
       "    </tr>\n",
       "  </thead>\n",
       "  <tbody>\n",
       "    <tr>\n",
       "      <th>0</th>\n",
       "      <td>Inception</td>\n",
       "      <td>False</td>\n",
       "      <td>en</td>\n",
       "      <td>/oYuLEt3zVCKq57qu2F8dT7NIa6f.jpg</td>\n",
       "      <td>Action, Science Fiction, Adventure</td>\n",
       "      <td>2010</td>\n",
       "    </tr>\n",
       "    <tr>\n",
       "      <th>1</th>\n",
       "      <td>Interstellar</td>\n",
       "      <td>False</td>\n",
       "      <td>en</td>\n",
       "      <td>/gEU2QniE6E77NI6lCU6MxlNBvIx.jpg</td>\n",
       "      <td>Adventure, Drama, Science Fiction</td>\n",
       "      <td>2014</td>\n",
       "    </tr>\n",
       "    <tr>\n",
       "      <th>2</th>\n",
       "      <td>The Dark Knight</td>\n",
       "      <td>False</td>\n",
       "      <td>en</td>\n",
       "      <td>/qJ2tW6WMUDux911r6m7haRef0WH.jpg</td>\n",
       "      <td>Drama, Action, Crime, Thriller</td>\n",
       "      <td>2008</td>\n",
       "    </tr>\n",
       "    <tr>\n",
       "      <th>3</th>\n",
       "      <td>Avatar</td>\n",
       "      <td>False</td>\n",
       "      <td>en</td>\n",
       "      <td>/kyeqWdyUXW608qlYkRqosgbbJyK.jpg</td>\n",
       "      <td>Action, Adventure, Fantasy, Science Fiction</td>\n",
       "      <td>2009</td>\n",
       "    </tr>\n",
       "    <tr>\n",
       "      <th>4</th>\n",
       "      <td>The Avengers</td>\n",
       "      <td>False</td>\n",
       "      <td>en</td>\n",
       "      <td>/RYMX2wcKCBAr24UyPD7xwmjaTn.jpg</td>\n",
       "      <td>Science Fiction, Action, Adventure</td>\n",
       "      <td>2012</td>\n",
       "    </tr>\n",
       "    <tr>\n",
       "      <th>...</th>\n",
       "      <td>...</td>\n",
       "      <td>...</td>\n",
       "      <td>...</td>\n",
       "      <td>...</td>\n",
       "      <td>...</td>\n",
       "      <td>...</td>\n",
       "    </tr>\n",
       "    <tr>\n",
       "      <th>1087904</th>\n",
       "      <td>No Name and Dynamite</td>\n",
       "      <td>False</td>\n",
       "      <td>en</td>\n",
       "      <td>/7MVENxKbO925bTm6IUb4xtZ65NZ.jpg</td>\n",
       "      <td>Western</td>\n",
       "      <td>2022</td>\n",
       "    </tr>\n",
       "    <tr>\n",
       "      <th>1087906</th>\n",
       "      <td>Flower Goddess</td>\n",
       "      <td>False</td>\n",
       "      <td>ja</td>\n",
       "      <td>/ma325mGyL2rH20ebhGDlJpQByEg.jpg</td>\n",
       "      <td>Animation, Fantasy</td>\n",
       "      <td>2020</td>\n",
       "    </tr>\n",
       "    <tr>\n",
       "      <th>1087908</th>\n",
       "      <td>Happy Zoo</td>\n",
       "      <td>False</td>\n",
       "      <td>ja</td>\n",
       "      <td>/eUIAPOSjGqfqzbvhDrubykYKOgd.jpg</td>\n",
       "      <td>Animation</td>\n",
       "      <td>2019</td>\n",
       "    </tr>\n",
       "    <tr>\n",
       "      <th>1087916</th>\n",
       "      <td>Friend</td>\n",
       "      <td>False</td>\n",
       "      <td>ja</td>\n",
       "      <td>/vOpxXL1hgyCQ5luxrX5UtVMQSQD.jpg</td>\n",
       "      <td>Animation</td>\n",
       "      <td>2019</td>\n",
       "    </tr>\n",
       "    <tr>\n",
       "      <th>1087919</th>\n",
       "      <td>Yurayura-ki</td>\n",
       "      <td>False</td>\n",
       "      <td>ja</td>\n",
       "      <td>/85fCV85yArwmjhYGt4agMAAoBzA.jpg</td>\n",
       "      <td>Animation</td>\n",
       "      <td>2020</td>\n",
       "    </tr>\n",
       "  </tbody>\n",
       "</table>\n",
       "<p>448784 rows × 6 columns</p>\n",
       "</div>"
      ],
      "text/plain": [
       "                        title  adult original_language  \\\n",
       "0                   Inception  False                en   \n",
       "1                Interstellar  False                en   \n",
       "2             The Dark Knight  False                en   \n",
       "3                      Avatar  False                en   \n",
       "4                The Avengers  False                en   \n",
       "...                       ...    ...               ...   \n",
       "1087904  No Name and Dynamite  False                en   \n",
       "1087906        Flower Goddess  False                ja   \n",
       "1087908             Happy Zoo  False                ja   \n",
       "1087916                Friend  False                ja   \n",
       "1087919           Yurayura-ki  False                ja   \n",
       "\n",
       "                              poster_path  \\\n",
       "0        /oYuLEt3zVCKq57qu2F8dT7NIa6f.jpg   \n",
       "1        /gEU2QniE6E77NI6lCU6MxlNBvIx.jpg   \n",
       "2        /qJ2tW6WMUDux911r6m7haRef0WH.jpg   \n",
       "3        /kyeqWdyUXW608qlYkRqosgbbJyK.jpg   \n",
       "4         /RYMX2wcKCBAr24UyPD7xwmjaTn.jpg   \n",
       "...                                   ...   \n",
       "1087904  /7MVENxKbO925bTm6IUb4xtZ65NZ.jpg   \n",
       "1087906  /ma325mGyL2rH20ebhGDlJpQByEg.jpg   \n",
       "1087908  /eUIAPOSjGqfqzbvhDrubykYKOgd.jpg   \n",
       "1087916  /vOpxXL1hgyCQ5luxrX5UtVMQSQD.jpg   \n",
       "1087919  /85fCV85yArwmjhYGt4agMAAoBzA.jpg   \n",
       "\n",
       "                                              genres  release_year  \n",
       "0                 Action, Science Fiction, Adventure          2010  \n",
       "1                  Adventure, Drama, Science Fiction          2014  \n",
       "2                     Drama, Action, Crime, Thriller          2008  \n",
       "3        Action, Adventure, Fantasy, Science Fiction          2009  \n",
       "4                 Science Fiction, Action, Adventure          2012  \n",
       "...                                              ...           ...  \n",
       "1087904                                      Western          2022  \n",
       "1087906                           Animation, Fantasy          2020  \n",
       "1087908                                    Animation          2019  \n",
       "1087916                                    Animation          2019  \n",
       "1087919                                    Animation          2020  \n",
       "\n",
       "[448784 rows x 6 columns]"
      ]
     },
     "execution_count": 20,
     "metadata": {},
     "output_type": "execute_result"
    }
   ],
   "source": [
    "# The final dataset that we will be using\n",
    "\n",
    "movies"
   ]
  },
  {
   "cell_type": "code",
   "execution_count": 23,
   "metadata": {},
   "outputs": [],
   "source": [
    "# Exporting the final dataset\n",
    "\n",
    "movies.to_csv('cleaned_movies.csv', index=False)"
   ]
  },
  {
   "cell_type": "code",
   "execution_count": 63,
   "metadata": {},
   "outputs": [],
   "source": [
    "# Initializing the LLM\n",
    "\n",
    "llm = ChatGroq(\n",
    "    temperature=0.5,\n",
    "    api_key='YOUR_API_KEY', # type: ignore\n",
    "    model='llama3-70b-8192',\n",
    "    stop_sequences=None,\n",
    "    max_tokens=8000\n",
    ")"
   ]
  },
  {
   "cell_type": "code",
   "execution_count": 64,
   "metadata": {},
   "outputs": [],
   "source": [
    "# Creating an agent to interact with the pandas DataFrame\n",
    "def filter_movies(genres=\"any\", year=\"any year\", original_language=\"any\", adult=\"False\"):\n",
    "    # Instantiate the agent\n",
    "    agent = create_pandas_dataframe_agent(llm, \n",
    "                                        movies,\n",
    "                                        verbose=False, \n",
    "                                        allow_dangerous_code=True)\n",
    "\n",
    "    # Set the query based on user filters\n",
    "    if genres.lower() == \"any\" and year == \"any year\" and original_language == \"any\" and adult == \"False\":   \n",
    "        query = \"Select up to 5 random movies with 'adult' set to 'False' and return their 'title' and 'poster_path' in a JSON format with no explaination. NO PREAMBLE.\"\n",
    "    elif genres.lower() == \"any\" and year == \"any year\" and original_language == \"any\" and adult == \"True\":\n",
    "        query = \"Select up to 5 random movies with 'adult' set to 'True' and return their 'title' and 'poster_path' in a JSON format with no explaination. NO PREAMBLE.\"\n",
    "    else:\n",
    "        query = f\"Select up to 5 movies and return their 'title' and 'poster_path' in a JSON format with no preamble where {genres} are in the 'genres', 'release_year' is between {year}, 'original_language' is {original_language} and 'adult' is set to {adult}.\"\n",
    "\n",
    "    result = agent.run(query)\n",
    "    return result"
   ]
  },
  {
   "cell_type": "code",
   "execution_count": 35,
   "metadata": {},
   "outputs": [
    {
     "name": "stdout",
     "output_type": "stream",
     "text": [
      "[{\"title\":\"Homecoming\",\"poster_path\":\"\\/lDKLiRiE0ucuZs5SZJKZIt14A7L.jpg\"},{\"title\":\"D is for Division\",\"poster_path\":\"\\/cEbBDYXOtHuUOce8mOAFNF2kFKr.jpg\"},{\"title\":\"Explosive Mission\",\"poster_path\":\"\\/zMhNN4DQjV7AZgNUf6xa1DVj66d.jpg\"},{\"title\":\"Sharks vs. the World\",\"poster_path\":\"\\/eHRv27VB1XPqQe311MEP0S13EXu.jpg\"},{\"title\":\"D' Muetter wott nur s' Bescht\",\"poster_path\":\"\\/l2impqw9iN435DaaFONOICBCnkk.jpg\"}]\n"
     ]
    }
   ],
   "source": [
    "output1 = filter_movies()\n",
    "print(output1)"
   ]
  },
  {
   "cell_type": "code",
   "execution_count": 36,
   "metadata": {},
   "outputs": [
    {
     "name": "stdout",
     "output_type": "stream",
     "text": [
      "[{\"title\":\"The Velvet Edge\",\"poster_path\":\"\\/4ofS2l3CZPTNPt3VEnzymC5bZB1.jpg\"},{\"title\":\"I Could See Her Nipples!! A Married Woman From the Neighborhood\",\"poster_path\":\"\\/olhPdh1IoyiBdBwyjw8OWDQijCE.jpg\"},{\"title\":\"Not Airplane XXX: Cockpit Cuties\",\"poster_path\":\"\\/1NTDEHWaTaLdD1pAsoiu5CGPvGz.jpg\"},{\"title\":\"Rekindling the Flame\",\"poster_path\":\"\\/2319jELyXtqHDPEZig4PibntuI8.jpg\"},{\"title\":\"She's On The Cheerleading Squad At A Prestigious University! Four Years Of Competition, Ranked 8th In The Country! This College Girl's So Beautiful It's Painful - A Real Life Athlete Makes Her Porn Debut With Her Legs Spread Impossibly Wide!\",\"poster_path\":\"\\/kviYOuQsfPZgljvArrZdzuMulaj.jpg\"}]\n"
     ]
    }
   ],
   "source": [
    "output2 = filter_movies(adult=\"True\")\n",
    "print(output2)"
   ]
  },
  {
   "cell_type": "code",
   "execution_count": 65,
   "metadata": {},
   "outputs": [
    {
     "name": "stdout",
     "output_type": "stream",
     "text": [
      "[{\"title\":\"The Dark Knight Rises\",\"poster_path\":\"\\/hr0L2aueqlP2BYUblTTjmtn0hw4.jpg\"},{\"title\":\"World War Z\",\"poster_path\":\"\\/1SWBSYJsnyhdNRfLI1T6RsCxAQ4.jpg\"},{\"title\":\"Rise of the Planet of the Apes\",\"poster_path\":\"\\/cjLsuP75UDlRdJVMXzXg3TJ4umX.jpg\"},{\"title\":\"Dawn of the Planet of the Apes\",\"poster_path\":\"\\/kScdQEwS9jPEdnO23XjGAtaoRcT.jpg\"},{\"title\":\"Elysium\",\"poster_path\":\"\\/aRjuJuPXHtVs6YegfeeQWXGRs1E.jpg\"}]\n"
     ]
    }
   ],
   "source": [
    "output3 = filter_movies(genres=\"Action, Drama, Thriller\", year=\"2010-2020\", original_language=\"en\", adult=\"True\")\n",
    "print(output3)"
   ]
  }
 ],
 "metadata": {
  "kernelspec": {
   "display_name": "Python 3",
   "language": "python",
   "name": "python3"
  },
  "language_info": {
   "codemirror_mode": {
    "name": "ipython",
    "version": 3
   },
   "file_extension": ".py",
   "mimetype": "text/x-python",
   "name": "python",
   "nbconvert_exporter": "python",
   "pygments_lexer": "ipython3",
   "version": "3.12.3"
  }
 },
 "nbformat": 4,
 "nbformat_minor": 2
}
